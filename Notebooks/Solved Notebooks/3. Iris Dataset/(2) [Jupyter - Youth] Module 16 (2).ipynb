{
 "cells": [
  {
   "cell_type": "markdown",
   "metadata": {},
   "source": [
    "# Basic data processing and visualisation"
   ]
  },
  {
   "cell_type": "code",
   "execution_count": 11,
   "metadata": {},
   "outputs": [],
   "source": [
    "import pandas as pd\n",
    "df = pd.read_csv(\"./data/iris.data\", header=None)\n",
    "names = [\"sepal_length\", \"sepal_width\", \"petal_length\", \"petal_width\", \"class\"]\n",
    "df.columns = names"
   ]
  },
  {
   "cell_type": "markdown",
   "metadata": {},
   "source": [
    "After importing the datset, we must be able to make sense of the data before any machine learning algorithms can be applied. In order to do so, we have to use basic statistics and simple plots. In this notebook, you will learn how to understand basic statstics and use the Matplotlib functions to plot simple plots. Thus, please ensure that you have the Matplotlib library installed before proceeding with the notebook. You can check by typing \"! pip freeze\"."
   ]
  },
  {
   "cell_type": "code",
   "execution_count": 5,
   "metadata": {},
   "outputs": [
    {
     "name": "stdout",
     "output_type": "stream",
     "text": [
      "appdirs==1.4.4\n",
      "argon2-cffi==21.3.0\n",
      "argon2-cffi-bindings==21.2.0\n",
      "asttokens==2.0.5\n",
      "attrs==21.4.0\n",
      "backcall==0.2.0\n",
      "beautifulsoup4==4.10.0\n",
      "black==22.1.0\n",
      "bleach==5.0.0\n",
      "bs4==0.0.1\n",
      "cattrs==1.10.0\n",
      "certifi==2021.10.8\n",
      "cffi==1.15.0\n",
      "charset-normalizer==2.0.11\n",
      "click==8.0.4\n",
      "colorama==0.4.4\n",
      "comtypes==1.1.11\n",
      "cycler==0.11.0\n",
      "debugpy==1.5.1\n",
      "decorator==4.4.2\n",
      "defusedxml==0.7.1\n",
      "entrypoints==0.4\n",
      "executing==0.8.2\n",
      "fastjsonschema==2.15.3\n",
      "fonttools==4.33.3\n",
      "idna==3.3\n",
      "imageio==2.15.0\n",
      "imageio-ffmpeg==0.4.5\n",
      "ipykernel==6.9.1\n",
      "ipython==8.0.1\n",
      "ipython-genutils==0.2.0\n",
      "ipywidgets==7.7.0\n",
      "jedi==0.18.1\n",
      "Jinja2==3.1.2\n",
      "joblib==1.1.0\n",
      "jsonschema==4.4.0\n",
      "jupyter==1.0.0\n",
      "jupyter-client==7.1.2\n",
      "jupyter-console==6.4.3\n",
      "jupyter-core==4.9.2\n",
      "jupyterlab-pygments==0.2.2\n",
      "jupyterlab-widgets==1.1.0\n",
      "kiwisolver==1.4.2\n",
      "MarkupSafe==2.1.1\n",
      "matplotlib==3.5.2\n",
      "matplotlib-inline==0.1.3\n",
      "mistune==0.8.4\n",
      "MouseInfo==0.1.3\n",
      "mypy-extensions==0.4.3\n",
      "nbclient==0.6.0\n",
      "nbconvert==6.5.0\n",
      "nbformat==5.3.0\n",
      "nest-asyncio==1.5.4\n",
      "nltk==3.7\n",
      "notebook==6.4.11\n",
      "numpy==1.22.2\n",
      "opencv-python==4.5.5.64\n",
      "packaging==21.3\n",
      "pandas==1.4.1\n",
      "pandocfilters==1.5.0\n",
      "parso==0.8.3\n",
      "pathspec==0.9.0\n",
      "pickleshare==0.7.5\n",
      "Pillow==9.0.1\n",
      "platformdirs==2.5.1\n",
      "proglog==0.1.9\n",
      "prometheus-client==0.14.1\n",
      "prompt-toolkit==3.0.28\n",
      "psutil==5.9.0\n",
      "psycopg2==2.9.3\n",
      "pure-eval==0.2.2\n",
      "PyAutoGUI==0.9.53\n",
      "pycparser==2.21\n",
      "PyGetWindow==0.0.9\n",
      "Pygments==2.11.2\n",
      "pyjokes==0.6.0\n",
      "PyMsgBox==1.0.9\n",
      "pyparsing==3.0.8\n",
      "PyPDF2==1.26.0\n",
      "pyperclip==1.8.2\n",
      "pypiwin32==223\n",
      "PyQt5==5.15.6\n",
      "PyQt5-Qt5==5.15.2\n",
      "PyQt5-sip==12.9.1\n",
      "PyRect==0.2.0\n",
      "pyrsistent==0.18.1\n",
      "PyScreeze==0.1.28\n",
      "python-dateutil==2.8.2\n",
      "pyttsx3==2.90\n",
      "pytube==12.0.0\n",
      "pytweening==1.0.4\n",
      "pytz==2021.3\n",
      "pywhatkit==5.3\n",
      "pywikihow==0.5.7\n",
      "pywin32==303\n",
      "pywinpty==2.0.5\n",
      "pyzmq==22.3.0\n",
      "qtconsole==5.3.0\n",
      "QtPy==2.0.1\n",
      "regex==2022.1.18\n",
      "requests==2.27.1\n",
      "requests-cache==0.9.3\n",
      "Send2Trash==1.8.0\n",
      "six==1.16.0\n",
      "soupsieve==2.3.1\n",
      "SpeechRecognition==3.8.1\n",
      "speedtest==0.0.1\n",
      "stack-data==0.2.0\n",
      "terminado==0.13.3\n",
      "tinycss2==1.1.1\n",
      "tomli==2.0.1\n",
      "tornado==6.1\n",
      "tqdm==4.62.3\n",
      "traitlets==5.1.1\n",
      "url-normalize==1.4.3\n",
      "urllib3==1.26.8\n",
      "wcwidth==0.2.5\n",
      "webencodings==0.5.1\n",
      "widgetsnbextension==3.6.0\n",
      "wikipedia==1.4.0\n"
     ]
    }
   ],
   "source": [
    "!pip freeze"
   ]
  },
  {
   "cell_type": "markdown",
   "metadata": {},
   "source": [
    "# Basic statistics"
   ]
  },
  {
   "cell_type": "markdown",
   "metadata": {},
   "source": [
    "Import your required libraries below. Generally, we will import any required libraries at the start of the notebook so that we do not have to re-run the whole notebook if we want to include additional libraries. The 2 libraries needed in this notebook will help structure and visualise the data."
   ]
  },
  {
   "cell_type": "code",
   "execution_count": 7,
   "metadata": {},
   "outputs": [],
   "source": [
    "import matplotlib.pyplot as plt\n",
    "import numpy as np"
   ]
  },
  {
   "cell_type": "markdown",
   "metadata": {},
   "source": [
    "# 1. Using the pandas .describe() function to obtain overall statistics"
   ]
  },
  {
   "cell_type": "markdown",
   "metadata": {},
   "source": [
    "Import the previously used Iris Flower dataset as a dataframe called df and print the .describe() output."
   ]
  },
  {
   "cell_type": "code",
   "execution_count": 8,
   "metadata": {},
   "outputs": [
    {
     "data": {
      "text/html": [
       "<div>\n",
       "<style scoped>\n",
       "    .dataframe tbody tr th:only-of-type {\n",
       "        vertical-align: middle;\n",
       "    }\n",
       "\n",
       "    .dataframe tbody tr th {\n",
       "        vertical-align: top;\n",
       "    }\n",
       "\n",
       "    .dataframe thead th {\n",
       "        text-align: right;\n",
       "    }\n",
       "</style>\n",
       "<table border=\"1\" class=\"dataframe\">\n",
       "  <thead>\n",
       "    <tr style=\"text-align: right;\">\n",
       "      <th></th>\n",
       "      <th>0</th>\n",
       "      <th>1</th>\n",
       "      <th>2</th>\n",
       "      <th>3</th>\n",
       "    </tr>\n",
       "  </thead>\n",
       "  <tbody>\n",
       "    <tr>\n",
       "      <th>count</th>\n",
       "      <td>150.000000</td>\n",
       "      <td>150.000000</td>\n",
       "      <td>150.000000</td>\n",
       "      <td>150.000000</td>\n",
       "    </tr>\n",
       "    <tr>\n",
       "      <th>mean</th>\n",
       "      <td>5.843333</td>\n",
       "      <td>3.054000</td>\n",
       "      <td>3.758667</td>\n",
       "      <td>1.198667</td>\n",
       "    </tr>\n",
       "    <tr>\n",
       "      <th>std</th>\n",
       "      <td>0.828066</td>\n",
       "      <td>0.433594</td>\n",
       "      <td>1.764420</td>\n",
       "      <td>0.763161</td>\n",
       "    </tr>\n",
       "    <tr>\n",
       "      <th>min</th>\n",
       "      <td>4.300000</td>\n",
       "      <td>2.000000</td>\n",
       "      <td>1.000000</td>\n",
       "      <td>0.100000</td>\n",
       "    </tr>\n",
       "    <tr>\n",
       "      <th>25%</th>\n",
       "      <td>5.100000</td>\n",
       "      <td>2.800000</td>\n",
       "      <td>1.600000</td>\n",
       "      <td>0.300000</td>\n",
       "    </tr>\n",
       "    <tr>\n",
       "      <th>50%</th>\n",
       "      <td>5.800000</td>\n",
       "      <td>3.000000</td>\n",
       "      <td>4.350000</td>\n",
       "      <td>1.300000</td>\n",
       "    </tr>\n",
       "    <tr>\n",
       "      <th>75%</th>\n",
       "      <td>6.400000</td>\n",
       "      <td>3.300000</td>\n",
       "      <td>5.100000</td>\n",
       "      <td>1.800000</td>\n",
       "    </tr>\n",
       "    <tr>\n",
       "      <th>max</th>\n",
       "      <td>7.900000</td>\n",
       "      <td>4.400000</td>\n",
       "      <td>6.900000</td>\n",
       "      <td>2.500000</td>\n",
       "    </tr>\n",
       "  </tbody>\n",
       "</table>\n",
       "</div>"
      ],
      "text/plain": [
       "                0           1           2           3\n",
       "count  150.000000  150.000000  150.000000  150.000000\n",
       "mean     5.843333    3.054000    3.758667    1.198667\n",
       "std      0.828066    0.433594    1.764420    0.763161\n",
       "min      4.300000    2.000000    1.000000    0.100000\n",
       "25%      5.100000    2.800000    1.600000    0.300000\n",
       "50%      5.800000    3.000000    4.350000    1.300000\n",
       "75%      6.400000    3.300000    5.100000    1.800000\n",
       "max      7.900000    4.400000    6.900000    2.500000"
      ]
     },
     "execution_count": 8,
     "metadata": {},
     "output_type": "execute_result"
    }
   ],
   "source": [
    "df.describe()"
   ]
  },
  {
   "cell_type": "markdown",
   "metadata": {},
   "source": [
    "We can see that the output will provide the values for mean, std, min, 25%, 50%, 75% and max. Do you know what these values refer to? Please briefly explain these values in your worksheet."
   ]
  },
  {
   "cell_type": "code",
   "execution_count": 9,
   "metadata": {},
   "outputs": [],
   "source": [
    "#your answer here"
   ]
  },
  {
   "cell_type": "markdown",
   "metadata": {},
   "source": [
    "These basic statistics are important as they will tell us the distribution of the data. For example, if you have a very small difference between the 50 and the 25 percentile but a large difference between the 75 and 50 percentile, it will suggest that the distribution of the data is skewed to the larger values. However, numbers alone may be hard to understand. Thus, we will be looking at some plots and figures to help us visualise!"
   ]
  },
  {
   "cell_type": "markdown",
   "metadata": {},
   "source": [
    "# 2. Boxplots"
   ]
  },
  {
   "cell_type": "markdown",
   "metadata": {},
   "source": [
    "Boxplots or box and whisker plots, are useful tools to help visualise the distribution of the data. The plot will indicate the percentile values and also the interquartile range (IQR). Additionally, it will also be able to identify potential outliers. The potential outliers will be values larger than the 75th percentile + 1.5(IQR) or lower than the 25th percentile - 1.5(IQR). You can refer to the figure below to understand how to read the boxplot. Additionally, you can watch this video for more information on boxplots (https://www.youtube.com/watch?v=o7qWblT5NZI)."
   ]
  },
  {
   "cell_type": "markdown",
   "metadata": {},
   "source": [
    "<img src = \"./resources/Box_Plot.PNG\">"
   ]
  },
  {
   "cell_type": "markdown",
   "metadata": {},
   "source": [
    "Let us try to plot box plots for imported Iris Flower dataset. Try out the code below. It will plot the boxplot for the sepal length variable in the dataset. Setting showfliers=True will ensure that the outliers will be shown on the plot.\n",
    "\n",
    "<font color=blue> Hint: If you encounter an error while plotting the boxplot, think about the previous exercise dealing with headers.</font>"
   ]
  },
  {
   "cell_type": "code",
   "execution_count": 13,
   "metadata": {},
   "outputs": [
    {
     "data": {
      "image/png": "[encoded data removed]",
      "text/plain": [
       "<Figure size 432x288 with 1 Axes>"
      ]
     },
     "metadata": {
      "needs_background": "light"
     },
     "output_type": "display_data"
    }
   ],
   "source": [
    "plt.boxplot(df['sepal_length'], showfliers=True, labels=['Sepal Length'])\n",
    "plt.show();"
   ]
  },
  {
   "cell_type": "markdown",
   "metadata": {},
   "source": [
    "From the boxplot above, can you explain if you should expect outliers within the sepal_length variable?"
   ]
  },
  {
   "cell_type": "code",
   "execution_count": null,
   "metadata": {},
   "outputs": [],
   "source": [
    "#your answer here"
   ]
  },
  {
   "cell_type": "markdown",
   "metadata": {},
   "source": [
    "It is now your turn to plot the box plots for \"sepal_width\",\"petal_length\", \"petal_width\" variables."
   ]
  },
  {
   "cell_type": "code",
   "execution_count": 16,
   "metadata": {},
   "outputs": [
    {
     "data": {
      "image/png": "[encoded data removed]",
      "text/plain": [
       "<Figure size 432x288 with 3 Axes>"
      ]
     },
     "metadata": {
      "needs_background": "light"
     },
     "output_type": "display_data"
    }
   ],
   "source": [
    "plt.boxplot(df['sepal_width'], showfliers=True, labels=['Sepal Width'])\n",
    "plt.show();\n",
    "plt.boxplot(df['petal_length'], showfliers=True, labels=['Petal Length'])\n",
    "plt.show();\n",
    "plt.boxplot(df['petal_width'], showfliers=True, labels=['Sepal Width'])\n",
    "plt.show();"
   ]
  },
  {
   "cell_type": "markdown",
   "metadata": {},
   "source": [
    "Did you notice that there could potentially be outliers in the sepal width variable? Additionally, did you see that the distribution within petal length and petal width may be skewed? This is because the median in both cases are closer to the top of the box than the bottom of the box."
   ]
  },
  {
   "cell_type": "markdown",
   "metadata": {},
   "source": [
    "<font color=blue>Bonus: Are you able to plot all 4 boxplots using the same axis in 1 figure? You can search for the .subplots() method within matplotlib to help you do so.</font>"
   ]
  },
  {
   "cell_type": "code",
   "execution_count": 17,
   "metadata": {},
   "outputs": [
    {
     "data": {
      "image/png": "[encoded data removed]",
      "text/plain": [
       "<Figure size 432x288 with 3 Axes>"
      ]
     },
     "metadata": {
      "needs_background": "light"
     },
     "output_type": "display_data"
    }
   ],
   "source": [
    "fig, (ax1, ax2, ax3) = plt.subplots(1, 3, sharey=True)\n",
    "fig.suptitle('Sharing X Axis')\n",
    "ax1.boxplot(df['sepal_width'], showfliers=True, labels=['Sepal Width'])\n",
    "ax2.boxplot(df['petal_length'], showfliers=True, labels=['Petal Length'])\n",
    "ax3.boxplot(df['petal_width'], showfliers=True, labels=['Petal Width'])\n",
    "plt.show();"
   ]
  },
  {
   "cell_type": "markdown",
   "metadata": {},
   "source": [
    "# 3. Histograms"
   ]
  },
  {
   "cell_type": "markdown",
   "metadata": {},
   "source": [
    "Like boxplots, histograms are also able to help you visualise the distribution of the data. It will also help to see if the data is skewed towards the high or low values. The bars within the histograms are representative of the number of datapoints that fall within certain value ranges. Try out the code below to see the histogram for the sepal length values. The value for bins indicate the number of bins for the data and the range indicates the minimum and maximum value for the x axis."
   ]
  },
  {
   "cell_type": "code",
   "execution_count": 20,
   "metadata": {},
   "outputs": [
    {
     "data": {
      "image/png": "[encoded data removed]",
      "text/plain": [
       "<Figure size 432x288 with 1 Axes>"
      ]
     },
     "metadata": {
      "needs_background": "light"
     },
     "output_type": "display_data"
    }
   ],
   "source": [
    "y = df['sepal_length']\n",
    "plt.hist(y, bins=10)\n",
    "plt.ylabel(\"Number of Sepals\")\n",
    "plt.xlabel(\"Length of Sepals\")\n",
    "plt.title('Distribution on the basis of lengths of the sepals!')\n",
    "plt.show()"
   ]
  },
  {
   "cell_type": "markdown",
   "metadata": {},
   "source": [
    "From the histogram above, you can see that the distribution is relatively balanced with the majority of the data falling between 4.5 and 7.0. Now, try to plot the histograms for the remaining variables. Try different bin numbers and ranges to get bins with nice intervals. For example, bins that have intervals of 1, 0.5, 0,2, etc are easier to visualise. You can print out the minimum and maximum values to help you. You can use the code below to print out the minimum and maximum values for sepal length. You can see that the values will range between 4 to 8 and 8 bins will be suitable as the interval of 0.5 will be easy to visualise."
   ]
  },
  {
   "cell_type": "code",
   "execution_count": 28,
   "metadata": {},
   "outputs": [
    {
     "data": {
      "image/png": "[encoded data removed]",
      "text/plain": [
       "<Figure size 432x288 with 1 Axes>"
      ]
     },
     "metadata": {
      "needs_background": "light"
     },
     "output_type": "display_data"
    },
    {
     "data": {
      "image/png": "[encoded data removed]",
      "text/plain": [
       "<Figure size 432x288 with 1 Axes>"
      ]
     },
     "metadata": {
      "needs_background": "light"
     },
     "output_type": "display_data"
    },
    {
     "data": {
      "image/png": "[encoded data removed]",
      "text/plain": [
       "<Figure size 432x288 with 1 Axes>"
      ]
     },
     "metadata": {
      "needs_background": "light"
     },
     "output_type": "display_data"
    }
   ],
   "source": [
    "columns = list(df.columns)\n",
    "columns.remove('sepal_length')\n",
    "columns.remove('class')\n",
    "for column in columns:\n",
    "  y = df[column]\n",
    "  plt.hist(y, bins=10)\n",
    "  plt.show()"
   ]
  },
  {
   "cell_type": "markdown",
   "metadata": {},
   "source": [
    "You can plot the remaining histograms below! Record down the ranges and number of bins used in each histogram. How did you obtain the range values and number of bins? What information can you obtain from the histogram that was not visualised by the box plot?"
   ]
  },
  {
   "cell_type": "code",
   "execution_count": 29,
   "metadata": {},
   "outputs": [
    {
     "data": {
      "image/png": "[encoded data removed]",
      "text/plain": [
       "<Figure size 432x288 with 1 Axes>"
      ]
     },
     "metadata": {
      "needs_background": "light"
     },
     "output_type": "display_data"
    },
    {
     "data": {
      "image/png": "[encoded data removed]",
      "text/plain": [
       "<Figure size 432x288 with 1 Axes>"
      ]
     },
     "metadata": {
      "needs_background": "light"
     },
     "output_type": "display_data"
    },
    {
     "data": {
      "image/png": "[encoded data removed]",
      "text/plain": [
       "<Figure size 432x288 with 1 Axes>"
      ]
     },
     "metadata": {
      "needs_background": "light"
     },
     "output_type": "display_data"
    }
   ],
   "source": [
    "columns = list(df.columns)\n",
    "columns.remove('sepal_length')\n",
    "columns.remove('class')\n",
    "for column in columns:\n",
    "  y = df[column]\n",
    "  plt.hist(y, bins=10)\n",
    "  plt.show()"
   ]
  },
  {
   "cell_type": "markdown",
   "metadata": {},
   "source": [
    "From the histograms above, you should be able to observe that the distribution is skewed for both petal length and petal width. This is the same conclusion as that seen earlier from the boxplots."
   ]
  },
  {
   "cell_type": "markdown",
   "metadata": {},
   "source": [
    "# 4. Scatter Plots"
   ]
  },
  {
   "cell_type": "markdown",
   "metadata": {},
   "source": [
    "Both boxplots and histograms are able to identify if outliers exist wihin a single variable. What if you need to look for outliers in 2 variables instead of just 1 variable? You can use scatter plot to help you do so. Scatter plots will be able to identify if there are outliers by plotting the points against 2 variables. Try the code out below. The code will use the \"petal length\" and \"petal width\" as variables."
   ]
  },
  {
   "cell_type": "code",
   "execution_count": 30,
   "metadata": {},
   "outputs": [
    {
     "data": {
      "text/plain": [
       "[]"
      ]
     },
     "execution_count": 30,
     "metadata": {},
     "output_type": "execute_result"
    },
    {
     "data": {
      "image/png": "[encoded data removed]",
      "text/plain": [
       "<Figure size 432x288 with 1 Axes>"
      ]
     },
     "metadata": {
      "needs_background": "light"
     },
     "output_type": "display_data"
    }
   ],
   "source": [
    "x = df['petal_length']\n",
    "y = df['petal_width']\n",
    "plt.scatter(x, y, c='red')\n",
    "plt.plot()"
   ]
  },
  {
   "cell_type": "markdown",
   "metadata": {},
   "source": [
    "Do you notice any outlier in the scatter plot? Where are they in the plot?"
   ]
  },
  {
   "cell_type": "markdown",
   "metadata": {},
   "source": [
    "From the figure above, it may seem that there are outliers at the left of the plot as these points are very far away from the marjority of the points. However, these are not outliers as outliers usually do not cluster together. Additionally, there are usually only a few outlier points. This grouping seems to be a cluster rather than outliers. We will see why this cluster exists later in the notebook. Additionally, if you observe carefully, you will also be able to see that there seems to be a direct relationship between petal width and petal length. This means that when petal width values are low, their petal length values will also be low and vice versa. Thus, scatter plots may sometimes be able to reveal relationships between variables as well."
   ]
  },
  {
   "cell_type": "markdown",
   "metadata": {},
   "source": [
    "Now it is your turn to try and plot a scatter plot. Use the remaining 2 variables, \"sepal length\" and \"sepal width\", to plot the scatter plot. Spend some time to study the plot. Do you see any interesting relationship between the two variables?"
   ]
  },
  {
   "cell_type": "code",
   "execution_count": 31,
   "metadata": {},
   "outputs": [
    {
     "data": {
      "text/plain": [
       "[]"
      ]
     },
     "execution_count": 31,
     "metadata": {},
     "output_type": "execute_result"
    },
    {
     "data": {
      "image/png": "[encoded data removed]",
      "text/plain": [
       "<Figure size 432x288 with 1 Axes>"
      ]
     },
     "metadata": {
      "needs_background": "light"
     },
     "output_type": "display_data"
    }
   ],
   "source": [
    "x = df['sepal_length']\n",
    "y = df['sepal_width']\n",
    "plt.scatter(x, y, c='red')\n",
    "plt.plot()"
   ]
  },
  {
   "cell_type": "markdown",
   "metadata": {},
   "source": [
    "You can observe from the plot that it does not seem to have any obvious outliers when comparing sepal width and sepal length. Furthermore, it seems that there is no clear relationship between sepal width and sepal length."
   ]
  },
  {
   "cell_type": "markdown",
   "metadata": {},
   "source": [
    "<font color=blue>Bonus: We can also use scatter plots to understand the differences in the classes in the dataset. To recall, we did not use the classes of the flowers. The classes are the labels for each flower. This means that we may be able to use the variables \"sepal length\", \"sepal width\", \"petal length\" and \"petal width\" values to try and predict the flower class. We can use scatter plots to see which may be the most useful variable to predict the class. Try the code below!</font>"
   ]
  },
  {
   "cell_type": "code",
   "execution_count": 32,
   "metadata": {},
   "outputs": [
    {
     "data": {
      "image/png": "[encoded data removed]",
      "text/plain": [
       "<Figure size 432x288 with 1 Axes>"
      ]
     },
     "metadata": {
      "needs_background": "light"
     },
     "output_type": "display_data"
    }
   ],
   "source": [
    "df_Setosa = df[df['class'] == 'Iris-setosa']\n",
    "plt.scatter(df_Setosa['petal_length'],df_Setosa['petal_width'],c='r',label='Setosa')\n",
    "plt.legend()\n",
    "plt.xlabel('Petal Length')\n",
    "plt.ylabel('Petal Width')\n",
    "\n",
    "plt.show()"
   ]
  },
  {
   "cell_type": "markdown",
   "metadata": {},
   "source": [
    "This shows that petal width and petal length may be important variables if we want to predict the classes of the flowers. This also explains why the values at the left corner are not outliers. Do the same plot for the other variables. Is it easy to separate the classes?"
   ]
  },
  {
   "cell_type": "code",
   "execution_count": 33,
   "metadata": {},
   "outputs": [
    {
     "data": {
      "image/png": "[encoded data removed]",
      "text/plain": [
       "<Figure size 432x288 with 1 Axes>"
      ]
     },
     "metadata": {
      "needs_background": "light"
     },
     "output_type": "display_data"
    }
   ],
   "source": [
    "df_Setosa = df[df['class'] == 'Iris-setosa']\n",
    "plt.scatter(df_Setosa['sepal_length'],df_Setosa['sepal_width'],c='r',label='Setosa')\n",
    "plt.legend()\n",
    "plt.xlabel('Sepal Length')\n",
    "plt.ylabel('Sepal Width')\n",
    "\n",
    "plt.show()"
   ]
  },
  {
   "cell_type": "markdown",
   "metadata": {},
   "source": [
    "We can see from both plots that it may be easier to predict the Setosa class as the data points are easily separatable from the other two classes."
   ]
  }
 ],
 "metadata": {
  "interpreter": {
   "hash": "bc72a3af264b0045735d19a958e44b2f4da1ab82dc967f6485e5d3ade304af55"
  },
  "kernelspec": {
   "display_name": "Python 3.10.2 64-bit",
   "language": "python",
   "name": "python3"
  },
  "language_info": {
   "codemirror_mode": {
    "name": "ipython",
    "version": 3
   },
   "file_extension": ".py",
   "mimetype": "text/x-python",
   "name": "python",
   "nbconvert_exporter": "python",
   "pygments_lexer": "ipython3",
   "version": "3.10.2"
  }
 },
 "nbformat": 4,
 "nbformat_minor": 2
}
