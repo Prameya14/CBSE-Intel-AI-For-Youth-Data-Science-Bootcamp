{
 "cells": [
  {
   "cell_type": "markdown",
   "metadata": {},
   "source": [
    "# Outputs Visualisation and Validation"
   ]
  },
  {
   "cell_type": "markdown",
   "metadata": {},
   "source": [
    "In previous workshops, you have learnt how to train different machine learning models and also use these trained models to make predictions. However, we have not focused on how to evaluate the performance of the model or visualise the outputs from the model. As such, we will now focus on how we can use different visualisation tools to help evaluate the performance of the model. In this notebook, you will learn how to utilise confusion matrix and heatmaps to evaluate your model. These tools will help to identify the accuracy of the model."
   ]
  },
  {
   "cell_type": "markdown",
   "metadata": {},
   "source": [
    "We first need to understand the concept of accuracy. How accurate does a model have to be before it is a good model? The answer depends on the use case of the model. For example, the model has to be very close to 100% accuracy if it involves huge financial amounts or illnesses identification. This is because these are important issues that may affect many people if the model were to be wrong by just fractions of a percent. On the other hand, if you were predicting movie recommendations or video recommendations it may be ok if it were less accurate as the implications of a wrong prediction are not as serious as the previously mentioned scenarios. Furthermore, it is also important to understand that it is almost impossible to obtain 100% accuracy as in order to do so, you will need to be able to collect every single data that is relevant to the problem. As such, you will need to balance the accuracy of the model with the amount of data that you have and also the use case. However, this does not mean that it is ok to stop after obtaining a low accuracy. You still need to try and see if you can make it better. Only when you have tried many ways and are unable to improve the accuracy then can you decide if the accuracy is good enough for the use case."
   ]
  },
  {
   "cell_type": "markdown",
   "metadata": {},
   "source": [
    "We will now see how we can use the visualisation tools for the machine learning techniques that you have tried in previous notebooks."
   ]
  },
  {
   "cell_type": "code",
   "execution_count": 1,
   "metadata": {},
   "outputs": [],
   "source": [
    "import pandas as pd\n"
   ]
  },
  {
   "cell_type": "markdown",
   "metadata": {},
   "source": [
    "## 1. K-Nearest Neighbours"
   ]
  },
  {
   "cell_type": "markdown",
   "metadata": {},
   "source": [
    "We will again use the K-Nearest Neighbours algorithm on the Iris Flower dataset. Import the dataset as a dataframe df and label encode the dataset. Label encoding is the conversion of categories into numerical groups. Write the code to label encode the dataset as a function (label_encode) instead. This will allow the label encoding code to be re-used if necessary in the notebook. Read this [article](https://www.codementor.io/kaushikpal/user-defined-functions-in-python-8s7wyc8k2) to find out how to write a user defined function. When we code, it is always useful to write functions if we think that the functions would be used more than once in the script. Expand the code below to import and label encode the dataset."
   ]
  },
  {
   "cell_type": "code",
   "execution_count": 2,
   "metadata": {},
   "outputs": [],
   "source": [
    "def label_encode(df):\n",
    "    values = {\n",
    "        \"Iris-setosa\": 0,\n",
    "        \"Iris-versicolor\": 1,\n",
    "        \"Iris-virginica\": 2\n",
    "    }\n",
    "    for index, row in df.iterrows():\n",
    "        df.at[index, 'class'] = values[row['class']]\n",
    "    return df\n"
   ]
  },
  {
   "cell_type": "code",
   "execution_count": 3,
   "metadata": {},
   "outputs": [
    {
     "data": {
      "text/html": [
       "<div>\n",
       "<style scoped>\n",
       "    .dataframe tbody tr th:only-of-type {\n",
       "        vertical-align: middle;\n",
       "    }\n",
       "\n",
       "    .dataframe tbody tr th {\n",
       "        vertical-align: top;\n",
       "    }\n",
       "\n",
       "    .dataframe thead th {\n",
       "        text-align: right;\n",
       "    }\n",
       "</style>\n",
       "<table border=\"1\" class=\"dataframe\">\n",
       "  <thead>\n",
       "    <tr style=\"text-align: right;\">\n",
       "      <th></th>\n",
       "      <th>sepal_length</th>\n",
       "      <th>sepal_width</th>\n",
       "      <th>petal_length</th>\n",
       "      <th>petal_width</th>\n",
       "      <th>class</th>\n",
       "    </tr>\n",
       "  </thead>\n",
       "  <tbody>\n",
       "    <tr>\n",
       "      <th>0</th>\n",
       "      <td>4.9</td>\n",
       "      <td>3.0</td>\n",
       "      <td>1.4</td>\n",
       "      <td>0.2</td>\n",
       "      <td>0</td>\n",
       "    </tr>\n",
       "    <tr>\n",
       "      <th>1</th>\n",
       "      <td>4.7</td>\n",
       "      <td>3.2</td>\n",
       "      <td>1.3</td>\n",
       "      <td>0.2</td>\n",
       "      <td>0</td>\n",
       "    </tr>\n",
       "    <tr>\n",
       "      <th>2</th>\n",
       "      <td>4.6</td>\n",
       "      <td>3.1</td>\n",
       "      <td>1.5</td>\n",
       "      <td>0.2</td>\n",
       "      <td>0</td>\n",
       "    </tr>\n",
       "    <tr>\n",
       "      <th>3</th>\n",
       "      <td>5.0</td>\n",
       "      <td>3.6</td>\n",
       "      <td>1.4</td>\n",
       "      <td>0.2</td>\n",
       "      <td>0</td>\n",
       "    </tr>\n",
       "    <tr>\n",
       "      <th>4</th>\n",
       "      <td>5.4</td>\n",
       "      <td>3.9</td>\n",
       "      <td>1.7</td>\n",
       "      <td>0.4</td>\n",
       "      <td>0</td>\n",
       "    </tr>\n",
       "  </tbody>\n",
       "</table>\n",
       "</div>"
      ],
      "text/plain": [
       "   sepal_length  sepal_width  petal_length  petal_width class\n",
       "0           4.9          3.0           1.4          0.2     0\n",
       "1           4.7          3.2           1.3          0.2     0\n",
       "2           4.6          3.1           1.5          0.2     0\n",
       "3           5.0          3.6           1.4          0.2     0\n",
       "4           5.4          3.9           1.7          0.4     0"
      ]
     },
     "execution_count": 3,
     "metadata": {},
     "output_type": "execute_result"
    }
   ],
   "source": [
    "df = pd.read_csv('./data/iris.data')\n",
    "names = [\"sepal_length\", \"sepal_width\", \"petal_length\", \"petal_width\", \"class\"]\n",
    "df.columns = names\n",
    "\n",
    "df = label_encode(df)\n",
    "y_values = df['class']\n",
    "y = y_values.astype('int')\n",
    "df.head()\n"
   ]
  },
  {
   "cell_type": "markdown",
   "metadata": {},
   "source": [
    "Now, split the data into train and test sets and also standardise the data. Keep 30% of the data in the test set."
   ]
  },
  {
   "cell_type": "code",
   "execution_count": 4,
   "metadata": {},
   "outputs": [
    {
     "data": {
      "text/plain": [
       "(     sepal_length  sepal_width  petal_length  petal_width class\n",
       " 103           6.5          3.0           5.8          2.2     2\n",
       " 66            5.8          2.7           4.1          1.0     1\n",
       " 94            5.7          3.0           4.2          1.2     1\n",
       " 120           5.6          2.8           4.9          2.0     2\n",
       " 117           7.7          2.6           6.9          2.3     2\n",
       " ..            ...          ...           ...          ...   ...\n",
       " 45            5.1          3.8           1.6          0.2     0\n",
       " 69            5.9          3.2           4.8          1.8     1\n",
       " 96            6.2          2.9           4.3          1.3     1\n",
       " 49            7.0          3.2           4.7          1.4     1\n",
       " 34            5.0          3.2           1.2          0.2     0\n",
       " \n",
       " [104 rows x 5 columns],\n",
       "      sepal_length  sepal_width  petal_length  petal_width class\n",
       " 6             5.0          3.4           1.5          0.2     0\n",
       " 46            4.6          3.2           1.4          0.2     0\n",
       " 145           6.3          2.5           5.0          1.9     2\n",
       " 15            5.4          3.9           1.3          0.4     0\n",
       " 72            6.1          2.8           4.7          1.2     1\n",
       " 79            5.5          2.4           3.8          1.1     1\n",
       " 108           7.2          3.6           6.1          2.5     2\n",
       " 84            6.0          3.4           4.5          1.6     1\n",
       " 3             5.0          3.6           1.4          0.2     0\n",
       " 57            6.6          2.9           4.6          1.3     1\n",
       " 101           7.1          3.0           5.9          2.1     2\n",
       " 67            6.2          2.2           4.5          1.5     1\n",
       " 100           5.8          2.7           5.1          1.9     2\n",
       " 20            5.1          3.7           1.5          0.4     0\n",
       " 14            5.7          4.4           1.5          0.4     0\n",
       " 39            5.0          3.5           1.3          0.3     0\n",
       " 143           6.7          3.3           5.7          2.5     2\n",
       " 30            5.4          3.4           1.5          0.4     0\n",
       " 24            5.0          3.0           1.6          0.2     0\n",
       " 115           6.5          3.0           5.5          1.8     2\n",
       " 32            5.5          4.2           1.4          0.2     0\n",
       " 64            6.7          3.1           4.4          1.4     1\n",
       " 8             4.9          3.1           1.5          0.1     0\n",
       " 90            6.1          3.0           4.6          1.4     1\n",
       " 29            4.8          3.1           1.6          0.2     0\n",
       " 2             4.6          3.1           1.5          0.2     0\n",
       " 124           7.2          3.2           6.0          1.8     2\n",
       " 76            6.7          3.0           5.0          1.7     1\n",
       " 105           4.9          2.5           4.5          1.7     2\n",
       " 56            4.9          2.4           3.3          1.0     1\n",
       " 71            6.3          2.5           4.9          1.5     1\n",
       " 47            5.3          3.7           1.5          0.2     0\n",
       " 141           5.8          2.7           5.1          1.9     2\n",
       " 33            4.9          3.1           1.5          0.1     0\n",
       " 5             4.6          3.4           1.4          0.3     0\n",
       " 43            5.1          3.8           1.9          0.4     0\n",
       " 125           6.2          2.8           4.8          1.8     2\n",
       " 87            5.6          3.0           4.1          1.3     1\n",
       " 10            4.8          3.4           1.6          0.2     0\n",
       " 16            5.1          3.5           1.4          0.3     0\n",
       " 9             5.4          3.7           1.5          0.2     0\n",
       " 22            5.1          3.3           1.7          0.5     0\n",
       " 17            5.7          3.8           1.7          0.3     0\n",
       " 130           7.9          3.8           6.4          2.0     2\n",
       " 74            6.6          3.0           4.4          1.4     1,\n",
       " 103    2\n",
       " 66     1\n",
       " 94     1\n",
       " 120    2\n",
       " 117    2\n",
       "       ..\n",
       " 45     0\n",
       " 69     1\n",
       " 96     1\n",
       " 49     1\n",
       " 34     0\n",
       " Name: class, Length: 104, dtype: int32,\n",
       " 6      0\n",
       " 46     0\n",
       " 145    2\n",
       " 15     0\n",
       " 72     1\n",
       " 79     1\n",
       " 108    2\n",
       " 84     1\n",
       " 3      0\n",
       " 57     1\n",
       " 101    2\n",
       " 67     1\n",
       " 100    2\n",
       " 20     0\n",
       " 14     0\n",
       " 39     0\n",
       " 143    2\n",
       " 30     0\n",
       " 24     0\n",
       " 115    2\n",
       " 32     0\n",
       " 64     1\n",
       " 8      0\n",
       " 90     1\n",
       " 29     0\n",
       " 2      0\n",
       " 124    2\n",
       " 76     1\n",
       " 105    2\n",
       " 56     1\n",
       " 71     1\n",
       " 47     0\n",
       " 141    2\n",
       " 33     0\n",
       " 5      0\n",
       " 43     0\n",
       " 125    2\n",
       " 87     1\n",
       " 10     0\n",
       " 16     0\n",
       " 9      0\n",
       " 22     0\n",
       " 17     0\n",
       " 130    2\n",
       " 74     1\n",
       " Name: class, dtype: int32)"
      ]
     },
     "execution_count": 4,
     "metadata": {},
     "output_type": "execute_result"
    }
   ],
   "source": [
    "from sklearn.model_selection import train_test_split\n",
    "X_train, X_test, y_train, y_test = train_test_split(\n",
    "    df, y, test_size=0.3)\n",
    "X_train, X_test, y_train, y_test\n"
   ]
  },
  {
   "cell_type": "markdown",
   "metadata": {},
   "source": [
    "Train a K-Nearest Neighbours algorithm with the dataset. Remember to use the optimal number of neighbours (6) found in the earlier notebook."
   ]
  },
  {
   "cell_type": "code",
   "execution_count": 5,
   "metadata": {},
   "outputs": [
    {
     "name": "stdout",
     "output_type": "stream",
     "text": [
      "Accuracy of model at K=6 is 1.0\n"
     ]
    }
   ],
   "source": [
    "from sklearn.neighbors import KNeighborsClassifier\n",
    "from sklearn import metrics\n",
    "from sklearn.preprocessing import StandardScaler\n",
    "\n",
    "scaler = StandardScaler()\n",
    "\n",
    "k = 6\n",
    "neigh = KNeighborsClassifier(n_neighbors=k).fit(X_train, y_train)\n",
    "Pred_y = neigh.predict(X_test)\n",
    "print(\"Accuracy of model at K=6 is\", metrics.accuracy_score(y_test, Pred_y))\n"
   ]
  },
  {
   "cell_type": "markdown",
   "metadata": {},
   "source": [
    "In order to evaluate the performance of the model, we have to first predict the flower type or class based on the test set. Use the .predict on KNN to predict the flower classes based on the test set. Store the predictions as y_predict."
   ]
  },
  {
   "cell_type": "code",
   "execution_count": 6,
   "metadata": {},
   "outputs": [
    {
     "name": "stdout",
     "output_type": "stream",
     "text": [
      "[0 0 2 0 1 1 2 1 0 1 2 1 2 0 0 0 2 0 0 2 0 1 0 1 0 0 2 1 2 1 1 0 2 0 0 0 2\n",
      " 1 0 0 0 0 0 2 1]\n"
     ]
    }
   ],
   "source": [
    "y_predict = neigh.predict(X_test)\n",
    "print(y_predict)\n"
   ]
  },
  {
   "cell_type": "markdown",
   "metadata": {},
   "source": [
    "We will use a tool known as a confusion matrix to help us to evaluate the model outputs. Read this [article](https://towardsdatascience.com/understanding-confusion-matrix-a9ad42dcfd62) to find out more about the confusion matrix. What does a true positive refer to? What does a false negative refer to?"
   ]
  },
  {
   "cell_type": "markdown",
   "metadata": {},
   "source": [
    "The confusion matrix discussed above is mainly for a 2 class classification problem. In the case of the Iris dataset, it is a multi-class problem as there are more than 2 different classes. In fact, there are 3 different classes or flower types. Thus, the confusion matrix for a multi-class scenario is an extension of the 2 class confusion matrix. As such, a multi-class confusion matrix may help identify which classes were wrongly classified by the model. Let us try to obtain the confusion matrix. Try the code below to import the confusion matrix function."
   ]
  },
  {
   "cell_type": "code",
   "execution_count": 7,
   "metadata": {},
   "outputs": [],
   "source": [
    "from sklearn.metrics import confusion_matrix\n"
   ]
  },
  {
   "cell_type": "markdown",
   "metadata": {},
   "source": [
    "Pass in the predicted values and the actual y values into the confusion matrix function. Try out the code below."
   ]
  },
  {
   "cell_type": "code",
   "execution_count": 8,
   "metadata": {},
   "outputs": [
    {
     "name": "stdout",
     "output_type": "stream",
     "text": [
      "[[22  0  0]\n",
      " [ 0 12  0]\n",
      " [ 0  0 11]]\n"
     ]
    }
   ],
   "source": [
    "print(confusion_matrix(y_test, y_predict))\n"
   ]
  },
  {
   "cell_type": "markdown",
   "metadata": {},
   "source": [
    "If the model is 100% accurate, there should only be non-zero numbers in the diagonal and zeroes everywhere else in the matrix. This is because the diagonals are where the predictions exactly match the actual data. From the above, we can see that the model is quite accurate and only 1 data point was wrongly classified by the model. Based on the [documentation](https://scikit-learn.org/stable/modules/generated/sklearn.metrics.confusion_matrix.html) for the confusion_matrix function, are you able to find out which point was misclassified? What was the data point's original class and what was the data point's predicted class? <font color=blue>Hint: The rows represent the actual classes whereas the columns represent the predicted classes. </font>"
   ]
  },
  {
   "cell_type": "code",
   "execution_count": 9,
   "metadata": {},
   "outputs": [
    {
     "name": "stdout",
     "output_type": "stream",
     "text": [
      "[[22  0  0]\n",
      " [ 0 12  0]\n",
      " [ 0  0 11]]\n"
     ]
    }
   ],
   "source": [
    "print(confusion_matrix(y_test, y_predict))\n"
   ]
  },
  {
   "cell_type": "markdown",
   "metadata": {},
   "source": [
    "We can also present the confusion matrix in an easy to understand heatmap. We can use the library seaborn to help us. Make sure seaborn is installed in your virtual environment. After doing so, run the code below to import seaborn as sns."
   ]
  },
  {
   "cell_type": "code",
   "execution_count": 10,
   "metadata": {},
   "outputs": [],
   "source": [
    "import seaborn as sns\n"
   ]
  },
  {
   "cell_type": "markdown",
   "metadata": {},
   "source": [
    "Try the code below to see the heatmap."
   ]
  },
  {
   "cell_type": "code",
   "execution_count": 11,
   "metadata": {},
   "outputs": [
    {
     "data": {
      "text/plain": [
       "<AxesSubplot:xlabel='Predicted', ylabel='Actual'>"
      ]
     },
     "execution_count": 11,
     "metadata": {},
     "output_type": "execute_result"
    },
    {
     "data": {
      "image/png": "[encoded data removed]",
      "text/plain": [
       "<Figure size 432x288 with 2 Axes>"
      ]
     },
     "metadata": {
      "needs_background": "light"
     },
     "output_type": "display_data"
    }
   ],
   "source": [
    "df = pd.DataFrame()\n",
    "\n",
    "df['Actual'] = y_test\n",
    "df['Predicted'] = y_predict\n",
    "\n",
    "freq = pd.crosstab(df.Actual, df.Predicted)\n",
    "\n",
    "sns.heatmap(freq, annot=True, fmt=\"d\")\n"
   ]
  },
  {
   "cell_type": "markdown",
   "metadata": {},
   "source": [
    "## 2. Decision Tree"
   ]
  },
  {
   "cell_type": "markdown",
   "metadata": {},
   "source": [
    "We can now apply the same methods to the decision tree. First, train a decision tree on the same dataset using max_depth of 2 and min_samples_split of 6. Do you remember what max_depth and min_samples_split refer to? You can refer to the previous notebook (Model_Outputs) for more information on max_depth and min_Samples_split."
   ]
  },
  {
   "cell_type": "code",
   "execution_count": 12,
   "metadata": {},
   "outputs": [],
   "source": [
    "from sklearn.tree import DecisionTreeClassifier\n",
    "\n",
    "dt = DecisionTreeClassifier()\n",
    "model = dt.fit(X_train, y_train)\n"
   ]
  },
  {
   "cell_type": "markdown",
   "metadata": {},
   "source": [
    "Predict the classes using the x_test_scale values."
   ]
  },
  {
   "cell_type": "code",
   "execution_count": 13,
   "metadata": {},
   "outputs": [
    {
     "data": {
      "text/plain": [
       "array([0, 0, 2, 0, 1, 1, 2, 1, 0, 1, 2, 1, 2, 0, 0, 0, 2, 0, 0, 2, 0, 1,\n",
       "       0, 1, 0, 0, 2, 1, 2, 1, 1, 0, 2, 0, 0, 0, 2, 1, 0, 0, 0, 0, 0, 2,\n",
       "       1])"
      ]
     },
     "execution_count": 13,
     "metadata": {},
     "output_type": "execute_result"
    }
   ],
   "source": [
    "y_pred = dt.predict(X_test)\n",
    "y_pred\n"
   ]
  },
  {
   "cell_type": "markdown",
   "metadata": {},
   "source": [
    "Obtain and print the confusion matrix."
   ]
  },
  {
   "cell_type": "code",
   "execution_count": 14,
   "metadata": {},
   "outputs": [
    {
     "name": "stdout",
     "output_type": "stream",
     "text": [
      "[[22  0  0]\n",
      " [ 0 12  0]\n",
      " [ 0  0 11]]\n"
     ]
    }
   ],
   "source": [
    "print(confusion_matrix(y_test, y_pred))\n"
   ]
  },
  {
   "cell_type": "markdown",
   "metadata": {},
   "source": [
    "Plot the heatmap for this confusion matrix."
   ]
  },
  {
   "cell_type": "code",
   "execution_count": 15,
   "metadata": {},
   "outputs": [
    {
     "data": {
      "text/plain": [
       "<AxesSubplot:xlabel='Predicted', ylabel='Actual'>"
      ]
     },
     "execution_count": 15,
     "metadata": {},
     "output_type": "execute_result"
    },
    {
     "data": {
      "image/png": "[encoded data removed]",
      "text/plain": [
       "<Figure size 432x288 with 2 Axes>"
      ]
     },
     "metadata": {
      "needs_background": "light"
     },
     "output_type": "display_data"
    }
   ],
   "source": [
    "df = pd.DataFrame()\n",
    "\n",
    "df['Actual'] = y_test\n",
    "df['Predicted'] = y_pred\n",
    "\n",
    "freq = pd.crosstab(df.Actual, df.Predicted)\n",
    "\n",
    "sns.heatmap(freq, annot=True, fmt=\"d\")\n"
   ]
  },
  {
   "cell_type": "markdown",
   "metadata": {},
   "source": [
    "By comparing the confusion matrices, which do you think is a better model for the problem? Why is it a better model? Discuss with your friends and list your answer below."
   ]
  },
  {
   "cell_type": "markdown",
   "metadata": {},
   "source": [
    "Additionally, when accuracy is similar, there are also other metrics to also consider. These include precision, recall and F1 score. Please read this [link](https://towardsdatascience.com/accuracy-precision-recall-or-f1-331fb37c5cb9) and this [link](https://medium.com/@raghaviadoni/evaluation-metrics-i-precision-recall-and-f1-score-3ec25e9fb5d3) for more information on these metrics. How would you use these metrics to help decide on your model choice?"
   ]
  },
  {
   "cell_type": "markdown",
   "metadata": {},
   "source": [
    "After deciding on a model, we can also use the model to identify flower types for newly gathered data. For example, imagine that your friend has measured the sepal_length, sepal_width, petal_length and petal_width of some flowers and saved the data in a file called \"iris_predict.data\". Your friend wants to find the flower types for these flowers based on the values measured. Would you be able to use your model to help your friend? What are the flower types that your friend measured?\n",
    "<font color=blue>Hint: Do you remember using the .predict method earlier to obtain the flower types for the test cases? You can also do the same to obtain the flower types for your friend. You will also need to scale your data before obtaining the flower types. </font>"
   ]
  }
 ],
 "metadata": {
  "interpreter": {
   "hash": "bc72a3af264b0045735d19a958e44b2f4da1ab82dc967f6485e5d3ade304af55"
  },
  "kernelspec": {
   "display_name": "Python 3.10.2 64-bit",
   "language": "python",
   "name": "python3"
  },
  "language_info": {
   "codemirror_mode": {
    "name": "ipython",
    "version": 3
   },
   "file_extension": ".py",
   "mimetype": "text/x-python",
   "name": "python",
   "nbconvert_exporter": "python",
   "pygments_lexer": "ipython3",
   "version": "3.10.2"
  }
 },
 "nbformat": 4,
 "nbformat_minor": 2
}
