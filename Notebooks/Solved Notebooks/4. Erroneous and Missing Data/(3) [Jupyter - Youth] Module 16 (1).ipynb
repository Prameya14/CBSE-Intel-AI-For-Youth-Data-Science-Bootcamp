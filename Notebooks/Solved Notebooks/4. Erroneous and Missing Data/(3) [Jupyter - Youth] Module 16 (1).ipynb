{
 "cells": [
  {
   "cell_type": "markdown",
   "metadata": {},
   "source": [
    "## Erroneous and missing data"
   ]
  },
  {
   "cell_type": "markdown",
   "metadata": {},
   "source": [
    "We need to collect or download data prior to any data science or machine learning project. In an ideal scenario, the data will be collected at a high quality without any errors. However, in reality, no dataset is clean. All datasets have to be checked for erroneous and missing data before using the dataset. It is always important to do so as any analysis with wrong or missing data will not be accurate!"
   ]
  },
  {
   "cell_type": "markdown",
   "metadata": {},
   "source": [
    "Remember that you should import any required modules at the start of a notebook. You can do it in the cell below."
   ]
  },
  {
   "cell_type": "code",
   "execution_count": 2,
   "metadata": {},
   "outputs": [],
   "source": [
    "import pandas as pd\n",
    "import numpy as np\n",
    "import matplotlib.pyplot as plt\n"
   ]
  },
  {
   "cell_type": "markdown",
   "metadata": {},
   "source": [
    "## 1. Erroneous data"
   ]
  },
  {
   "cell_type": "markdown",
   "metadata": {},
   "source": [
    "Erroneous data refer to data that is either collected wrongly or input wrongly in the dataset. For example, if we have a dataset containing number of rooms in a house, we expect all the values to be positive as it is not possible to have negative number of rooms. Thus, all negative values within the dataset will be erroneous.\n",
    "\n",
    "While it may be easy in some cases to identify erroneous data, it may not be the case all the time. Using the same idea of the dataset containing number of rooms in a house, it may also be possible that large values may also be erroneous. However, it is now not so clear whether large numbers are errors or outliers. This is because very large houses such as mansions can have many rooms. As mansions are rare, their data points will show up as outliers. Outliers are not erroneous data! Outliers are just rare cases and are still valid data points.\n",
    "\n",
    "The example below will show you the difference between erroneous data and outliers."
   ]
  },
  {
   "cell_type": "markdown",
   "metadata": {},
   "source": [
    "## 1.1 Price of Computer games"
   ]
  },
  {
   "cell_type": "markdown",
   "metadata": {},
   "source": [
    "We are given the task to study whether the price of a computer game is related to the number of people who likes the game. This will help a game development company adjust its price for its newest game. Assuming we have collected all the data on the prices in US Dollar (USD) and also the number of people who liked the game, we now need to check if the data contain any outliers or erroneous data. Run the code below and observe the output. "
   ]
  },
  {
   "cell_type": "code",
   "execution_count": 4,
   "metadata": {},
   "outputs": [
    {
     "data": {
      "image/png": "[encoded data removed]",
      "text/plain": [
       "<Figure size 432x288 with 1 Axes>"
      ]
     },
     "metadata": {
      "needs_background": "light"
     },
     "output_type": "display_data"
    }
   ],
   "source": [
    "game_name = ['Phone of duty', 'PIFA soccer', 'Lario cart', 'Hokemon',\n",
    "             'Loom', 'League of failures', 'Fritnite', 'Fatty Trotter']\n",
    "game_price = [10, 20, 50, 150, 80, 200, 1000, -100]\n",
    "num_people = [1, 2, 5, 15, 8, 10, 1, 0.5]\n",
    "\n",
    "plt.scatter(num_people[0:5], game_price[0:5])\n",
    "plt.scatter(num_people[5], game_price[5], c='g')\n",
    "plt.scatter(num_people[6:8], game_price[6:8], c='r')\n",
    "\n",
    "plt.xlabel('Number of People')\n",
    "plt.ylabel('Price of game (USD)')\n",
    "\n",
    "plt.show()\n"
   ]
  },
  {
   "cell_type": "markdown",
   "metadata": {},
   "source": [
    "What do you notice about the figure above? \n",
    "\n",
    "It seems that the points in red are erroneous data. For the first point in red, it is erroneous because the price is negative and the number of people who liked the game is between 0 and 1. It is not possible for a game to be sold at a negative price and it is also not possible to have a fraction of a person liking the game. The number of people should be a whole number. For the second point in red, it is erroneous because computer games do not cost as much as 1000 USD.\n",
    "\n",
    "As the red data points are erroneous, we will need to remove these values from the dataset. Copy the code above and edit it to remove the erroneous points and only plot the remaining points. Run the edited code below. If you have done this correctly, you would have no negative value for the ‘price’, and no fraction for the ‘number of people’.\n",
    "\n",
    "<font color=blue>Bonus: Can you name the games that are erroneous?</font>"
   ]
  },
  {
   "cell_type": "code",
   "execution_count": 5,
   "metadata": {},
   "outputs": [
    {
     "data": {
      "image/png": "[encoded data removed]",
      "text/plain": [
       "<Figure size 432x288 with 1 Axes>"
      ]
     },
     "metadata": {
      "needs_background": "light"
     },
     "output_type": "display_data"
    }
   ],
   "source": [
    "game_price = [10, 20, 50, 150, 80, 200]\n",
    "num_people = [1, 2, 5, 15, 8, 10]\n",
    "\n",
    "plt.scatter(num_people[0:5], game_price[0:5])\n",
    "plt.scatter(num_people[5], game_price[5], c='g')\n",
    "\n",
    "plt.xlabel('Number of People')\n",
    "plt.ylabel('Price of game (USD)')\n",
    "\n",
    "plt.show()\n"
   ]
  },
  {
   "cell_type": "markdown",
   "metadata": {},
   "source": [
    "We now see that there seems to be a linear relationship between the price of the game and the number of people who liked the game. The price of the game is higher when more people liked the game.\n",
    "\n",
    "However, do you notice a point that does not seem to fit into the relationship?\n",
    "\n",
    "You are right if you realised that the green point does not fit. As the game price and the number of people who liked the game seem to be realistic, it is likely to be an outlier instead of an erroneous data. To recall, an outlier may not be a wrong data point. In this case, it could just be a very expensive game that only has 12 people liking it.\n",
    "\n",
    "We can choose to remove the outlier or we can keep the outlier. If you have sufficient data points or can collect more points to replace the outlier, we can remove the outlier from the dataset. There is no strict rule to decide if outliers should be removed. However, if the outliers make up the majority of your dataset, then you should not be removing them but instead try to collect more data to see if they are really outliers. In this example, as there only seems to be one outlier, we will remove the outlier. Remove the outlier and plot the new scatter plot below."
   ]
  },
  {
   "cell_type": "code",
   "execution_count": 7,
   "metadata": {},
   "outputs": [
    {
     "data": {
      "image/png": "[encoded data removed]",
      "text/plain": [
       "<Figure size 432x288 with 1 Axes>"
      ]
     },
     "metadata": {
      "needs_background": "light"
     },
     "output_type": "display_data"
    }
   ],
   "source": [
    "game_price = [10, 20, 50, 150, 80]\n",
    "num_people = [1, 2, 5, 15, 8]\n",
    "\n",
    "plt.scatter(num_people[0:5], game_price[0:5])\n",
    "\n",
    "plt.xlabel('Number of People')\n",
    "plt.ylabel('Price of game (USD)')\n",
    "\n",
    "plt.show()\n"
   ]
  },
  {
   "cell_type": "markdown",
   "metadata": {},
   "source": [
    "We can observe from the new scatter plot that the price of game now shares a linear, increasing relationship with the number of people who liked the game."
   ]
  },
  {
   "cell_type": "markdown",
   "metadata": {},
   "source": [
    "## 1.2 Handling erroneous data in dataframes"
   ]
  },
  {
   "cell_type": "markdown",
   "metadata": {},
   "source": [
    "You are given a CSV file \"Students_Score1.csv\". It contains data on the number of hours a student spent studying and the students' exam scores for Mathematics, English and Science. It is assumed that a student should score better when they spend more time studying. However, research has also shown that the a student is not able to study more than 16 hours a day. Additionally, it is also possible that some of the data would be erroneous. If an error is identified in the data, the whole row of data should be removed. Would you be able to help identify and remove the erroneous data?"
   ]
  },
  {
   "cell_type": "markdown",
   "metadata": {},
   "source": [
    "First, load in the data as a dataframe df."
   ]
  },
  {
   "cell_type": "code",
   "execution_count": 8,
   "metadata": {},
   "outputs": [],
   "source": [
    "df = pd.read_csv('./data/Students_Score1.csv')\n"
   ]
  },
  {
   "cell_type": "markdown",
   "metadata": {},
   "source": [
    "Print out the headers and first 5 rows of df. Addtionally, print out the .info() of df. This will help us understand the column names and also check for missing values."
   ]
  },
  {
   "cell_type": "code",
   "execution_count": 9,
   "metadata": {},
   "outputs": [
    {
     "data": {
      "text/html": [
       "<div>\n",
       "<style scoped>\n",
       "    .dataframe tbody tr th:only-of-type {\n",
       "        vertical-align: middle;\n",
       "    }\n",
       "\n",
       "    .dataframe tbody tr th {\n",
       "        vertical-align: top;\n",
       "    }\n",
       "\n",
       "    .dataframe thead th {\n",
       "        text-align: right;\n",
       "    }\n",
       "</style>\n",
       "<table border=\"1\" class=\"dataframe\">\n",
       "  <thead>\n",
       "    <tr style=\"text-align: right;\">\n",
       "      <th></th>\n",
       "      <th>Student No.</th>\n",
       "      <th>Hours spent studying in a day</th>\n",
       "      <th>Mathematics score</th>\n",
       "      <th>English score</th>\n",
       "      <th>Science score</th>\n",
       "    </tr>\n",
       "  </thead>\n",
       "  <tbody>\n",
       "    <tr>\n",
       "      <th>0</th>\n",
       "      <td>1</td>\n",
       "      <td>11</td>\n",
       "      <td>44</td>\n",
       "      <td>39.6</td>\n",
       "      <td>35.2</td>\n",
       "    </tr>\n",
       "    <tr>\n",
       "      <th>1</th>\n",
       "      <td>2</td>\n",
       "      <td>19</td>\n",
       "      <td>76</td>\n",
       "      <td>68.4</td>\n",
       "      <td>60.8</td>\n",
       "    </tr>\n",
       "    <tr>\n",
       "      <th>2</th>\n",
       "      <td>3</td>\n",
       "      <td>4</td>\n",
       "      <td>16</td>\n",
       "      <td>14.4</td>\n",
       "      <td>12.8</td>\n",
       "    </tr>\n",
       "    <tr>\n",
       "      <th>3</th>\n",
       "      <td>4</td>\n",
       "      <td>24</td>\n",
       "      <td>96</td>\n",
       "      <td>86.4</td>\n",
       "      <td>76.8</td>\n",
       "    </tr>\n",
       "    <tr>\n",
       "      <th>4</th>\n",
       "      <td>5</td>\n",
       "      <td>4</td>\n",
       "      <td>16</td>\n",
       "      <td>14.4</td>\n",
       "      <td>12.8</td>\n",
       "    </tr>\n",
       "  </tbody>\n",
       "</table>\n",
       "</div>"
      ],
      "text/plain": [
       "   Student No.  Hours spent studying in a day  Mathematics score  \\\n",
       "0            1                             11                 44   \n",
       "1            2                             19                 76   \n",
       "2            3                              4                 16   \n",
       "3            4                             24                 96   \n",
       "4            5                              4                 16   \n",
       "\n",
       "   English score  Science score  \n",
       "0           39.6           35.2  \n",
       "1           68.4           60.8  \n",
       "2           14.4           12.8  \n",
       "3           86.4           76.8  \n",
       "4           14.4           12.8  "
      ]
     },
     "execution_count": 9,
     "metadata": {},
     "output_type": "execute_result"
    }
   ],
   "source": [
    "df.head()\n"
   ]
  },
  {
   "cell_type": "code",
   "execution_count": 10,
   "metadata": {},
   "outputs": [
    {
     "name": "stdout",
     "output_type": "stream",
     "text": [
      "<class 'pandas.core.frame.DataFrame'>\n",
      "RangeIndex: 267 entries, 0 to 266\n",
      "Data columns (total 5 columns):\n",
      " #   Column                         Non-Null Count  Dtype  \n",
      "---  ------                         --------------  -----  \n",
      " 0   Student No.                    267 non-null    int64  \n",
      " 1   Hours spent studying in a day  267 non-null    int64  \n",
      " 2   Mathematics score              267 non-null    int64  \n",
      " 3   English score                  267 non-null    float64\n",
      " 4   Science score                  267 non-null    float64\n",
      "dtypes: float64(2), int64(3)\n",
      "memory usage: 10.6 KB\n"
     ]
    }
   ],
   "source": [
    "df.info()\n"
   ]
  },
  {
   "cell_type": "markdown",
   "metadata": {},
   "source": [
    "We now know the name of the columns. We need to know the minimum and maximum values for the number of hours and scores in order to check for erroneous data. Print .describe() to find out these details."
   ]
  },
  {
   "cell_type": "code",
   "execution_count": 11,
   "metadata": {},
   "outputs": [
    {
     "data": {
      "text/html": [
       "<div>\n",
       "<style scoped>\n",
       "    .dataframe tbody tr th:only-of-type {\n",
       "        vertical-align: middle;\n",
       "    }\n",
       "\n",
       "    .dataframe tbody tr th {\n",
       "        vertical-align: top;\n",
       "    }\n",
       "\n",
       "    .dataframe thead th {\n",
       "        text-align: right;\n",
       "    }\n",
       "</style>\n",
       "<table border=\"1\" class=\"dataframe\">\n",
       "  <thead>\n",
       "    <tr style=\"text-align: right;\">\n",
       "      <th></th>\n",
       "      <th>Student No.</th>\n",
       "      <th>Hours spent studying in a day</th>\n",
       "      <th>Mathematics score</th>\n",
       "      <th>English score</th>\n",
       "      <th>Science score</th>\n",
       "    </tr>\n",
       "  </thead>\n",
       "  <tbody>\n",
       "    <tr>\n",
       "      <th>count</th>\n",
       "      <td>267.000000</td>\n",
       "      <td>267.000000</td>\n",
       "      <td>267.000000</td>\n",
       "      <td>267.000000</td>\n",
       "      <td>267.000000</td>\n",
       "    </tr>\n",
       "    <tr>\n",
       "      <th>mean</th>\n",
       "      <td>134.000000</td>\n",
       "      <td>12.123596</td>\n",
       "      <td>48.749064</td>\n",
       "      <td>43.539326</td>\n",
       "      <td>38.795506</td>\n",
       "    </tr>\n",
       "    <tr>\n",
       "      <th>std</th>\n",
       "      <td>77.220464</td>\n",
       "      <td>7.668636</td>\n",
       "      <td>31.802503</td>\n",
       "      <td>28.521820</td>\n",
       "      <td>24.539635</td>\n",
       "    </tr>\n",
       "    <tr>\n",
       "      <th>min</th>\n",
       "      <td>1.000000</td>\n",
       "      <td>-10.000000</td>\n",
       "      <td>-40.000000</td>\n",
       "      <td>-36.000000</td>\n",
       "      <td>-32.000000</td>\n",
       "    </tr>\n",
       "    <tr>\n",
       "      <th>25%</th>\n",
       "      <td>67.500000</td>\n",
       "      <td>6.000000</td>\n",
       "      <td>24.000000</td>\n",
       "      <td>21.600000</td>\n",
       "      <td>19.200000</td>\n",
       "    </tr>\n",
       "    <tr>\n",
       "      <th>50%</th>\n",
       "      <td>134.000000</td>\n",
       "      <td>12.000000</td>\n",
       "      <td>48.000000</td>\n",
       "      <td>43.200000</td>\n",
       "      <td>38.400000</td>\n",
       "    </tr>\n",
       "    <tr>\n",
       "      <th>75%</th>\n",
       "      <td>200.500000</td>\n",
       "      <td>18.000000</td>\n",
       "      <td>74.000000</td>\n",
       "      <td>66.600000</td>\n",
       "      <td>57.600000</td>\n",
       "    </tr>\n",
       "    <tr>\n",
       "      <th>max</th>\n",
       "      <td>267.000000</td>\n",
       "      <td>40.000000</td>\n",
       "      <td>175.000000</td>\n",
       "      <td>144.000000</td>\n",
       "      <td>128.000000</td>\n",
       "    </tr>\n",
       "  </tbody>\n",
       "</table>\n",
       "</div>"
      ],
      "text/plain": [
       "       Student No.  Hours spent studying in a day  Mathematics score  \\\n",
       "count   267.000000                     267.000000         267.000000   \n",
       "mean    134.000000                      12.123596          48.749064   \n",
       "std      77.220464                       7.668636          31.802503   \n",
       "min       1.000000                     -10.000000         -40.000000   \n",
       "25%      67.500000                       6.000000          24.000000   \n",
       "50%     134.000000                      12.000000          48.000000   \n",
       "75%     200.500000                      18.000000          74.000000   \n",
       "max     267.000000                      40.000000         175.000000   \n",
       "\n",
       "       English score  Science score  \n",
       "count     267.000000     267.000000  \n",
       "mean       43.539326      38.795506  \n",
       "std        28.521820      24.539635  \n",
       "min       -36.000000     -32.000000  \n",
       "25%        21.600000      19.200000  \n",
       "50%        43.200000      38.400000  \n",
       "75%        66.600000      57.600000  \n",
       "max       144.000000     128.000000  "
      ]
     },
     "execution_count": 11,
     "metadata": {},
     "output_type": "execute_result"
    }
   ],
   "source": [
    "df.describe()\n"
   ]
  },
  {
   "cell_type": "markdown",
   "metadata": {},
   "source": [
    "From the minimum and maximum values shown above, are you able to identify which columns have erroneous data?"
   ]
  },
  {
   "cell_type": "code",
   "execution_count": 14,
   "metadata": {},
   "outputs": [],
   "source": [
    "df2 = df[df['Mathematics score'] >= 0]\n",
    "df3 = df2[df2['Mathematics score'] <= 100]\n"
   ]
  },
  {
   "cell_type": "code",
   "execution_count": 15,
   "metadata": {},
   "outputs": [
    {
     "data": {
      "text/html": [
       "<div>\n",
       "<style scoped>\n",
       "    .dataframe tbody tr th:only-of-type {\n",
       "        vertical-align: middle;\n",
       "    }\n",
       "\n",
       "    .dataframe tbody tr th {\n",
       "        vertical-align: top;\n",
       "    }\n",
       "\n",
       "    .dataframe thead th {\n",
       "        text-align: right;\n",
       "    }\n",
       "</style>\n",
       "<table border=\"1\" class=\"dataframe\">\n",
       "  <thead>\n",
       "    <tr style=\"text-align: right;\">\n",
       "      <th></th>\n",
       "      <th>Student No.</th>\n",
       "      <th>Hours spent studying in a day</th>\n",
       "      <th>Mathematics score</th>\n",
       "      <th>English score</th>\n",
       "      <th>Science score</th>\n",
       "    </tr>\n",
       "  </thead>\n",
       "  <tbody>\n",
       "    <tr>\n",
       "      <th>count</th>\n",
       "      <td>267.000000</td>\n",
       "      <td>267.000000</td>\n",
       "      <td>267.000000</td>\n",
       "      <td>267.000000</td>\n",
       "      <td>267.000000</td>\n",
       "    </tr>\n",
       "    <tr>\n",
       "      <th>mean</th>\n",
       "      <td>134.000000</td>\n",
       "      <td>12.123596</td>\n",
       "      <td>48.749064</td>\n",
       "      <td>43.539326</td>\n",
       "      <td>38.795506</td>\n",
       "    </tr>\n",
       "    <tr>\n",
       "      <th>std</th>\n",
       "      <td>77.220464</td>\n",
       "      <td>7.668636</td>\n",
       "      <td>31.802503</td>\n",
       "      <td>28.521820</td>\n",
       "      <td>24.539635</td>\n",
       "    </tr>\n",
       "    <tr>\n",
       "      <th>min</th>\n",
       "      <td>1.000000</td>\n",
       "      <td>-10.000000</td>\n",
       "      <td>-40.000000</td>\n",
       "      <td>-36.000000</td>\n",
       "      <td>-32.000000</td>\n",
       "    </tr>\n",
       "    <tr>\n",
       "      <th>25%</th>\n",
       "      <td>67.500000</td>\n",
       "      <td>6.000000</td>\n",
       "      <td>24.000000</td>\n",
       "      <td>21.600000</td>\n",
       "      <td>19.200000</td>\n",
       "    </tr>\n",
       "    <tr>\n",
       "      <th>50%</th>\n",
       "      <td>134.000000</td>\n",
       "      <td>12.000000</td>\n",
       "      <td>48.000000</td>\n",
       "      <td>43.200000</td>\n",
       "      <td>38.400000</td>\n",
       "    </tr>\n",
       "    <tr>\n",
       "      <th>75%</th>\n",
       "      <td>200.500000</td>\n",
       "      <td>18.000000</td>\n",
       "      <td>74.000000</td>\n",
       "      <td>66.600000</td>\n",
       "      <td>57.600000</td>\n",
       "    </tr>\n",
       "    <tr>\n",
       "      <th>max</th>\n",
       "      <td>267.000000</td>\n",
       "      <td>40.000000</td>\n",
       "      <td>175.000000</td>\n",
       "      <td>144.000000</td>\n",
       "      <td>128.000000</td>\n",
       "    </tr>\n",
       "  </tbody>\n",
       "</table>\n",
       "</div>"
      ],
      "text/plain": [
       "       Student No.  Hours spent studying in a day  Mathematics score  \\\n",
       "count   267.000000                     267.000000         267.000000   \n",
       "mean    134.000000                      12.123596          48.749064   \n",
       "std      77.220464                       7.668636          31.802503   \n",
       "min       1.000000                     -10.000000         -40.000000   \n",
       "25%      67.500000                       6.000000          24.000000   \n",
       "50%     134.000000                      12.000000          48.000000   \n",
       "75%     200.500000                      18.000000          74.000000   \n",
       "max     267.000000                      40.000000         175.000000   \n",
       "\n",
       "       English score  Science score  \n",
       "count     267.000000     267.000000  \n",
       "mean       43.539326      38.795506  \n",
       "std        28.521820      24.539635  \n",
       "min       -36.000000     -32.000000  \n",
       "25%        21.600000      19.200000  \n",
       "50%        43.200000      38.400000  \n",
       "75%        66.600000      57.600000  \n",
       "max       144.000000     128.000000  "
      ]
     },
     "execution_count": 15,
     "metadata": {},
     "output_type": "execute_result"
    }
   ],
   "source": [
    "df.describe()\n"
   ]
  },
  {
   "cell_type": "markdown",
   "metadata": {},
   "source": []
  },
  {
   "cell_type": "markdown",
   "metadata": {},
   "source": [
    "Now let us try to remove the errorneous data. We will first work on the Mathematics score. The code should be able to remove rows with Mathematics score that are lesser than 0 or more than 100. "
   ]
  },
  {
   "cell_type": "code",
   "execution_count": 16,
   "metadata": {},
   "outputs": [
    {
     "name": "stdout",
     "output_type": "stream",
     "text": [
      "<class 'pandas.core.frame.DataFrame'>\n",
      "RangeIndex: 267 entries, 0 to 266\n",
      "Data columns (total 5 columns):\n",
      " #   Column                         Non-Null Count  Dtype  \n",
      "---  ------                         --------------  -----  \n",
      " 0   Student No.                    267 non-null    int64  \n",
      " 1   Hours spent studying in a day  267 non-null    int64  \n",
      " 2   Mathematics score              267 non-null    int64  \n",
      " 3   English score                  267 non-null    float64\n",
      " 4   Science score                  267 non-null    float64\n",
      "dtypes: float64(2), int64(3)\n",
      "memory usage: 10.6 KB\n"
     ]
    }
   ],
   "source": [
    "df.info()\n"
   ]
  },
  {
   "cell_type": "markdown",
   "metadata": {},
   "source": [
    "Compare the information on ‘Mathematics score’ before and after the data less than 0 and more than 100 is removed. What do you notice?"
   ]
  },
  {
   "cell_type": "markdown",
   "metadata": {},
   "source": [
    "If we compare the printout with the same table printed earlier, we can see that the Mathematics score now ranges from 0 to 96. Additionally, we can also see from .info() that the number of data points have reduced from 267 to 261. This indicates that there were 6 points that were errorneous in the Mathematics score."
   ]
  },
  {
   "cell_type": "markdown",
   "metadata": {},
   "source": [
    "It is now your turn to remove the erroneous data from the English score, Science score and Hours spent studying in a day columns. Print out the last .describe() and .info(). "
   ]
  },
  {
   "cell_type": "code",
   "execution_count": 18,
   "metadata": {},
   "outputs": [
    {
     "name": "stdout",
     "output_type": "stream",
     "text": [
      "       Student No.  Hours spent studying in a day  Mathematics score  \\\n",
      "count   257.000000                     257.000000         257.000000   \n",
      "mean    135.038911                      12.050584          48.202335   \n",
      "std      76.669685                       7.292532          29.170129   \n",
      "min       1.000000                       0.000000           0.000000   \n",
      "25%      69.000000                       6.000000          24.000000   \n",
      "50%     137.000000                      12.000000          48.000000   \n",
      "75%     201.000000                      18.000000          72.000000   \n",
      "max     266.000000                      24.000000          96.000000   \n",
      "\n",
      "       English score  Science score  \n",
      "count     257.000000     257.000000  \n",
      "mean       43.382101      38.561868  \n",
      "std        26.253116      23.336103  \n",
      "min         0.000000       0.000000  \n",
      "25%        21.600000      19.200000  \n",
      "50%        43.200000      38.400000  \n",
      "75%        64.800000      57.600000  \n",
      "max        86.400000      76.800000  \n",
      "       Student No.  Hours spent studying in a day  Mathematics score  \\\n",
      "count   257.000000                     257.000000         257.000000   \n",
      "mean    135.038911                      12.050584          48.202335   \n",
      "std      76.669685                       7.292532          29.170129   \n",
      "min       1.000000                       0.000000           0.000000   \n",
      "25%      69.000000                       6.000000          24.000000   \n",
      "50%     137.000000                      12.000000          48.000000   \n",
      "75%     201.000000                      18.000000          72.000000   \n",
      "max     266.000000                      24.000000          96.000000   \n",
      "\n",
      "       English score  Science score  \n",
      "count     257.000000     257.000000  \n",
      "mean       43.382101      38.561868  \n",
      "std        26.253116      23.336103  \n",
      "min         0.000000       0.000000  \n",
      "25%        21.600000      19.200000  \n",
      "50%        43.200000      38.400000  \n",
      "75%        64.800000      57.600000  \n",
      "max        86.400000      76.800000  \n",
      "       Student No.  Hours spent studying in a day  Mathematics score  \\\n",
      "count   179.000000                     179.000000         179.000000   \n",
      "mean    133.536313                       8.189944          32.759777   \n",
      "std      77.929762                       4.990745          19.962981   \n",
      "min       1.000000                       0.000000           0.000000   \n",
      "25%      63.500000                       4.000000          16.000000   \n",
      "50%     138.000000                       8.000000          32.000000   \n",
      "75%     199.000000                      12.500000          50.000000   \n",
      "max     266.000000                      16.000000          64.000000   \n",
      "\n",
      "       English score  Science score  \n",
      "count     179.000000     179.000000  \n",
      "mean       29.483799      26.207821  \n",
      "std        17.966683      15.970385  \n",
      "min         0.000000       0.000000  \n",
      "25%        14.400000      12.800000  \n",
      "50%        28.800000      25.600000  \n",
      "75%        45.000000      40.000000  \n",
      "max        57.600000      51.200000  \n",
      "<class 'pandas.core.frame.DataFrame'>\n",
      "Int64Index: 179 entries, 0 to 265\n",
      "Data columns (total 5 columns):\n",
      " #   Column                         Non-Null Count  Dtype  \n",
      "---  ------                         --------------  -----  \n",
      " 0   Student No.                    179 non-null    int64  \n",
      " 1   Hours spent studying in a day  179 non-null    int64  \n",
      " 2   Mathematics score              179 non-null    int64  \n",
      " 3   English score                  179 non-null    float64\n",
      " 4   Science score                  179 non-null    float64\n",
      "dtypes: float64(2), int64(3)\n",
      "memory usage: 8.4 KB\n",
      "None\n"
     ]
    }
   ],
   "source": [
    "df4 = df3[df3['English score'] >= 0]\n",
    "df5 = df4[df4['English score'] <= 100]\n",
    "print(df5.describe())\n",
    "\n",
    "df6 = df5[df5['Science score'] >= 0]\n",
    "df7 = df6[df6['Science score'] <= 100]\n",
    "print(df7.describe())\n",
    "\n",
    "df8 = df7[df7['Hours spent studying in a day'] >= 0]\n",
    "df9 = df8[df8['Hours spent studying in a day'] <= 16]\n",
    "print(df9.describe())\n",
    "print(df9.info())\n"
   ]
  },
  {
   "cell_type": "markdown",
   "metadata": {},
   "source": [
    "From the information you have obtained from .describe (), can you identify the total number of data points that had erroneous data? Can you also identify the correct minimum and maximum scores for each subject?"
   ]
  },
  {
   "cell_type": "markdown",
   "metadata": {},
   "source": [
    "## 2. Missing data"
   ]
  },
  {
   "cell_type": "markdown",
   "metadata": {},
   "source": [
    "Missing data refer to gaps within the dataset. This is becasue not every data point can be collected. For example, if you are required to count the number of letters delivered by a postman each day, you may have no data on the days which the postman was on leave. Thus, you will fill in data on those days as missing data. Another possible reason for missing data could be due to carelessness of the person collecting the data. Sometimes, the person collecting the data may have forgotten to input the data into the dataset. Additionally, if you are obtaining data from survey forms, you can expect to encounter missing data due to incomplete forms. This is because not everyone will fill in all the fields within the survey form\n",
    "\n",
    "Are you able to provide some possible reasons why there may be missing data in the scenarios listed below?\n",
    "- Number of hours a teacher will spend in school a day\n",
    "- Number of phone calls an office worker receives on the mobile phone in a day\n",
    "- Air temperature of your city"
   ]
  },
  {
   "cell_type": "markdown",
   "metadata": {},
   "source": [
    "Missing data can have many different forms. Usually, we will refer to missing data as NaN but some datasets will use either very large numbers or very small numbers to represent missing data. One example will be that of meteorological or weather data. The value of -9999 is used to represent missing data values in these datasets.\n",
    "\n",
    "It is important to remove or replace these missing data values in a dataset before conducting any analysis. This is to ensure accuracy in our analysis.\n",
    "\n",
    "In the example below, you will learn how to identify and treat these missing values."
   ]
  },
  {
   "cell_type": "markdown",
   "metadata": {},
   "source": [
    "## 2.1 House prices"
   ]
  },
  {
   "cell_type": "markdown",
   "metadata": {},
   "source": [
    "You and your friend, Ben, have been tasked to determine if house prices within your neighbourhood is related to the number of rooms within the house. Being a nice friend, Ben decides to collect all the data for you. However, Ben may have been careless and missed some data points. Are you able to help him identify if there are any missing data?\n",
    "\n",
    "The data is given below. House_prices refer to the price of the house in US Dollar (USD) and the Num_rooms refer to the number of rooms in the house. Run the code and observe the output carefully! Make sure you have imported numpy as np before running the code."
   ]
  },
  {
   "cell_type": "code",
   "execution_count": 19,
   "metadata": {},
   "outputs": [
    {
     "name": "stdout",
     "output_type": "stream",
     "text": [
      "Total number of data points in House_prices =  5\n",
      "Total number of data points in Num_rooms =  6\n"
     ]
    }
   ],
   "source": [
    "House_prices = [10050, 42300, 50206, np.nan, 105000, np.nan, 22350]\n",
    "Num_rooms = [np.nan, 4, 5, 6, 10, 12, 2]\n",
    "\n",
    "print('Total number of data points in House_prices = ',\n",
    "      np.count_nonzero(~np.isnan(House_prices)))\n",
    "print('Total number of data points in Num_rooms = ',\n",
    "      np.count_nonzero(~np.isnan(Num_rooms)))\n"
   ]
  },
  {
   "cell_type": "markdown",
   "metadata": {},
   "source": [
    "Why are the number of data points in House_prices different from the number of data points in Num_rooms? How many houses are there in total?"
   ]
  },
  {
   "cell_type": "code",
   "execution_count": 20,
   "metadata": {},
   "outputs": [
    {
     "data": {
      "image/png": "[encoded data removed]",
      "text/plain": [
       "<Figure size 432x288 with 1 Axes>"
      ]
     },
     "metadata": {
      "needs_background": "light"
     },
     "output_type": "display_data"
    }
   ],
   "source": [
    "House_prices = [42300, 50206, 105000, 22350]\n",
    "Num_rooms = [4, 5, 10, 2]\n",
    "\n",
    "plt.scatter(Num_rooms, House_prices)\n",
    "plt.xlabel('Number of rooms')\n",
    "plt.ylabel('House prices in USD')\n",
    "plt.show()\n"
   ]
  },
  {
   "cell_type": "markdown",
   "metadata": {},
   "source": [
    "Remove the missing data from the dataset and plot the scatter plot below. Label the axis accordingly. Remember to also remove the corresponding data for each missing value. For example, if there is a missing value in house price, the corresponding value for number of rooms should also be removed. What do you observe from the scatter plot? Write down your observations."
   ]
  },
  {
   "cell_type": "code",
   "execution_count": 21,
   "metadata": {},
   "outputs": [
    {
     "data": {
      "image/png": "[encoded data removed]",
      "text/plain": [
       "<Figure size 432x288 with 1 Axes>"
      ]
     },
     "metadata": {
      "needs_background": "light"
     },
     "output_type": "display_data"
    }
   ],
   "source": [
    "House_prices = [10050, 42300, 50206, 60000, 105000, 120000, 22350]\n",
    "Num_rooms = [1, 4, 5, 6, 10, 12, 2]\n",
    "\n",
    "plt.scatter(Num_rooms, House_prices)\n",
    "plt.xlabel('Number of rooms')\n",
    "plt.ylabel('House prices in USD')\n",
    "plt.show()\n"
   ]
  },
  {
   "cell_type": "markdown",
   "metadata": {},
   "source": [
    "<font color=blue>Bonus: Can you guess the correct values of the previous missing values? Replace the missing values with your guesses and plot the scatter plot again!</font>"
   ]
  },
  {
   "cell_type": "markdown",
   "metadata": {},
   "source": [
    "## 2.2 Handling missing values in dataframes"
   ]
  },
  {
   "cell_type": "markdown",
   "metadata": {},
   "source": [
    "You are again asked to handle data that contains students' exam results and their studying hours. The data is stored in the \"Students_Score2.csv\" file. Not all the students reported their studying hours and thus, there are missing values in the data. Remove the missing values and report the total number of students that have missing data."
   ]
  },
  {
   "cell_type": "markdown",
   "metadata": {},
   "source": [
    "First, load in the data as a dataframe df."
   ]
  },
  {
   "cell_type": "code",
   "execution_count": 22,
   "metadata": {},
   "outputs": [],
   "source": [
    "df = pd.read_csv('./data/Students_Score2.csv')\n"
   ]
  },
  {
   "cell_type": "markdown",
   "metadata": {},
   "source": [
    "Print out the headers and first 5 rows of df. Addtionally, print out the .info() of df."
   ]
  },
  {
   "cell_type": "code",
   "execution_count": 23,
   "metadata": {},
   "outputs": [
    {
     "data": {
      "text/html": [
       "<div>\n",
       "<style scoped>\n",
       "    .dataframe tbody tr th:only-of-type {\n",
       "        vertical-align: middle;\n",
       "    }\n",
       "\n",
       "    .dataframe tbody tr th {\n",
       "        vertical-align: top;\n",
       "    }\n",
       "\n",
       "    .dataframe thead th {\n",
       "        text-align: right;\n",
       "    }\n",
       "</style>\n",
       "<table border=\"1\" class=\"dataframe\">\n",
       "  <thead>\n",
       "    <tr style=\"text-align: right;\">\n",
       "      <th></th>\n",
       "      <th>Student No.</th>\n",
       "      <th>Hours spent studying in a day</th>\n",
       "      <th>Mathematics score</th>\n",
       "      <th>English score</th>\n",
       "      <th>Science score</th>\n",
       "    </tr>\n",
       "  </thead>\n",
       "  <tbody>\n",
       "    <tr>\n",
       "      <th>0</th>\n",
       "      <td>1</td>\n",
       "      <td>0.0</td>\n",
       "      <td>0.0</td>\n",
       "      <td>0.0</td>\n",
       "      <td>0.0</td>\n",
       "    </tr>\n",
       "    <tr>\n",
       "      <th>1</th>\n",
       "      <td>2</td>\n",
       "      <td>3.0</td>\n",
       "      <td>15.0</td>\n",
       "      <td>12.9</td>\n",
       "      <td>12.6</td>\n",
       "    </tr>\n",
       "    <tr>\n",
       "      <th>2</th>\n",
       "      <td>3</td>\n",
       "      <td>2.0</td>\n",
       "      <td>10.0</td>\n",
       "      <td>8.6</td>\n",
       "      <td>8.4</td>\n",
       "    </tr>\n",
       "    <tr>\n",
       "      <th>3</th>\n",
       "      <td>4</td>\n",
       "      <td>13.0</td>\n",
       "      <td>65.0</td>\n",
       "      <td>55.9</td>\n",
       "      <td>54.6</td>\n",
       "    </tr>\n",
       "    <tr>\n",
       "      <th>4</th>\n",
       "      <td>5</td>\n",
       "      <td>0.0</td>\n",
       "      <td>0.0</td>\n",
       "      <td>0.0</td>\n",
       "      <td>0.0</td>\n",
       "    </tr>\n",
       "  </tbody>\n",
       "</table>\n",
       "</div>"
      ],
      "text/plain": [
       "   Student No.  Hours spent studying in a day  Mathematics score  \\\n",
       "0            1                            0.0                0.0   \n",
       "1            2                            3.0               15.0   \n",
       "2            3                            2.0               10.0   \n",
       "3            4                           13.0               65.0   \n",
       "4            5                            0.0                0.0   \n",
       "\n",
       "   English score  Science score  \n",
       "0            0.0            0.0  \n",
       "1           12.9           12.6  \n",
       "2            8.6            8.4  \n",
       "3           55.9           54.6  \n",
       "4            0.0            0.0  "
      ]
     },
     "execution_count": 23,
     "metadata": {},
     "output_type": "execute_result"
    }
   ],
   "source": [
    "df.head()\n"
   ]
  },
  {
   "cell_type": "code",
   "execution_count": 24,
   "metadata": {},
   "outputs": [
    {
     "name": "stdout",
     "output_type": "stream",
     "text": [
      "<class 'pandas.core.frame.DataFrame'>\n",
      "RangeIndex: 387 entries, 0 to 386\n",
      "Data columns (total 5 columns):\n",
      " #   Column                         Non-Null Count  Dtype  \n",
      "---  ------                         --------------  -----  \n",
      " 0   Student No.                    387 non-null    int64  \n",
      " 1   Hours spent studying in a day  382 non-null    float64\n",
      " 2   Mathematics score              383 non-null    float64\n",
      " 3   English score                  382 non-null    float64\n",
      " 4   Science score                  383 non-null    float64\n",
      "dtypes: float64(4), int64(1)\n",
      "memory usage: 15.2 KB\n"
     ]
    }
   ],
   "source": [
    "df.info()\n"
   ]
  },
  {
   "cell_type": "markdown",
   "metadata": {},
   "source": [
    "From the .info() output, did you observe the differing number of rows for each column? The different number of rows are due to the presence of missing numbers in them."
   ]
  },
  {
   "cell_type": "markdown",
   "metadata": {},
   "source": [
    "Before we are able to handle the missing values, we need to first check for erroneous data. Print out .describe() and observe the minimum and maximum values."
   ]
  },
  {
   "cell_type": "code",
   "execution_count": 25,
   "metadata": {},
   "outputs": [
    {
     "data": {
      "text/html": [
       "<div>\n",
       "<style scoped>\n",
       "    .dataframe tbody tr th:only-of-type {\n",
       "        vertical-align: middle;\n",
       "    }\n",
       "\n",
       "    .dataframe tbody tr th {\n",
       "        vertical-align: top;\n",
       "    }\n",
       "\n",
       "    .dataframe thead th {\n",
       "        text-align: right;\n",
       "    }\n",
       "</style>\n",
       "<table border=\"1\" class=\"dataframe\">\n",
       "  <thead>\n",
       "    <tr style=\"text-align: right;\">\n",
       "      <th></th>\n",
       "      <th>Student No.</th>\n",
       "      <th>Hours spent studying in a day</th>\n",
       "      <th>Mathematics score</th>\n",
       "      <th>English score</th>\n",
       "      <th>Science score</th>\n",
       "    </tr>\n",
       "  </thead>\n",
       "  <tbody>\n",
       "    <tr>\n",
       "      <th>count</th>\n",
       "      <td>387.000000</td>\n",
       "      <td>382.000000</td>\n",
       "      <td>383.000000</td>\n",
       "      <td>382.000000</td>\n",
       "      <td>383.000000</td>\n",
       "    </tr>\n",
       "    <tr>\n",
       "      <th>mean</th>\n",
       "      <td>194.000000</td>\n",
       "      <td>7.083770</td>\n",
       "      <td>35.417755</td>\n",
       "      <td>30.392670</td>\n",
       "      <td>29.641253</td>\n",
       "    </tr>\n",
       "    <tr>\n",
       "      <th>std</th>\n",
       "      <td>111.861522</td>\n",
       "      <td>4.473697</td>\n",
       "      <td>22.271713</td>\n",
       "      <td>19.258215</td>\n",
       "      <td>18.783876</td>\n",
       "    </tr>\n",
       "    <tr>\n",
       "      <th>min</th>\n",
       "      <td>1.000000</td>\n",
       "      <td>0.000000</td>\n",
       "      <td>0.000000</td>\n",
       "      <td>0.000000</td>\n",
       "      <td>0.000000</td>\n",
       "    </tr>\n",
       "    <tr>\n",
       "      <th>25%</th>\n",
       "      <td>97.500000</td>\n",
       "      <td>3.000000</td>\n",
       "      <td>15.000000</td>\n",
       "      <td>12.900000</td>\n",
       "      <td>12.600000</td>\n",
       "    </tr>\n",
       "    <tr>\n",
       "      <th>50%</th>\n",
       "      <td>194.000000</td>\n",
       "      <td>7.000000</td>\n",
       "      <td>35.000000</td>\n",
       "      <td>30.100000</td>\n",
       "      <td>29.400000</td>\n",
       "    </tr>\n",
       "    <tr>\n",
       "      <th>75%</th>\n",
       "      <td>290.500000</td>\n",
       "      <td>11.000000</td>\n",
       "      <td>55.000000</td>\n",
       "      <td>47.300000</td>\n",
       "      <td>46.200000</td>\n",
       "    </tr>\n",
       "    <tr>\n",
       "      <th>max</th>\n",
       "      <td>387.000000</td>\n",
       "      <td>15.000000</td>\n",
       "      <td>75.000000</td>\n",
       "      <td>64.500000</td>\n",
       "      <td>63.000000</td>\n",
       "    </tr>\n",
       "  </tbody>\n",
       "</table>\n",
       "</div>"
      ],
      "text/plain": [
       "       Student No.  Hours spent studying in a day  Mathematics score  \\\n",
       "count   387.000000                     382.000000         383.000000   \n",
       "mean    194.000000                       7.083770          35.417755   \n",
       "std     111.861522                       4.473697          22.271713   \n",
       "min       1.000000                       0.000000           0.000000   \n",
       "25%      97.500000                       3.000000          15.000000   \n",
       "50%     194.000000                       7.000000          35.000000   \n",
       "75%     290.500000                      11.000000          55.000000   \n",
       "max     387.000000                      15.000000          75.000000   \n",
       "\n",
       "       English score  Science score  \n",
       "count     382.000000     383.000000  \n",
       "mean       30.392670      29.641253  \n",
       "std        19.258215      18.783876  \n",
       "min         0.000000       0.000000  \n",
       "25%        12.900000      12.600000  \n",
       "50%        30.100000      29.400000  \n",
       "75%        47.300000      46.200000  \n",
       "max        64.500000      63.000000  "
      ]
     },
     "execution_count": 25,
     "metadata": {},
     "output_type": "execute_result"
    }
   ],
   "source": [
    "df.describe()\n"
   ]
  },
  {
   "cell_type": "markdown",
   "metadata": {},
   "source": [
    "We now see that the number of hours spent studying is wihin 0 and 15 and all the scores are also between 0 and 100. This shows that there are no errors within the dataset."
   ]
  },
  {
   "cell_type": "markdown",
   "metadata": {},
   "source": [
    "Now, lets remove the missing values from the dataset. Pandas has a nice trick to allow us to do it easily. It is called .dropna(). You can use it to drop missing values by row or column. For example, if you want to remove the rows that have missing values, you can call df.dropna(axis=0). If you want to remove the columns that have missing values, you can call df.dropna(axis=1). You can find out more information on .dropna() [here](https://pandas.pydata.org/pandas-docs/stable/generated/pandas.DataFrame.dropna.html)."
   ]
  },
  {
   "cell_type": "markdown",
   "metadata": {},
   "source": [
    "In the case of the students scores, should we remove the missing values by rows or by columns?"
   ]
  },
  {
   "cell_type": "markdown",
   "metadata": {},
   "source": [
    "Now, write the code that will allow you to remove the missing values below. You can refer to this [link](https://pandas.pydata.org/pandas-docs/stable/generated/pandas.DataFrame.dropna.html) for information on how to use .dropna() to remove missing values. Remember to assign the output to a new dataframe so that you do not edit the original dataframe. You can use df2 = df.(your function here) to assign to a new dataframe."
   ]
  },
  {
   "cell_type": "code",
   "execution_count": 29,
   "metadata": {},
   "outputs": [
    {
     "name": "stdout",
     "output_type": "stream",
     "text": [
      "<class 'pandas.core.frame.DataFrame'>\n",
      "Int64Index: 373 entries, 0 to 386\n",
      "Data columns (total 5 columns):\n",
      " #   Column                         Non-Null Count  Dtype  \n",
      "---  ------                         --------------  -----  \n",
      " 0   Student No.                    373 non-null    int64  \n",
      " 1   Hours spent studying in a day  373 non-null    float64\n",
      " 2   Mathematics score              373 non-null    float64\n",
      " 3   English score                  373 non-null    float64\n",
      " 4   Science score                  373 non-null    float64\n",
      "dtypes: float64(4), int64(1)\n",
      "memory usage: 17.5 KB\n"
     ]
    }
   ],
   "source": [
    "df = df.dropna()\n"
   ]
  },
  {
   "cell_type": "markdown",
   "metadata": {},
   "source": [
    "Print out the .info() for the new dataframe and observe the number of non-null values for each column."
   ]
  },
  {
   "cell_type": "code",
   "execution_count": 30,
   "metadata": {},
   "outputs": [
    {
     "name": "stdout",
     "output_type": "stream",
     "text": [
      "<class 'pandas.core.frame.DataFrame'>\n",
      "Int64Index: 373 entries, 0 to 386\n",
      "Data columns (total 5 columns):\n",
      " #   Column                         Non-Null Count  Dtype  \n",
      "---  ------                         --------------  -----  \n",
      " 0   Student No.                    373 non-null    int64  \n",
      " 1   Hours spent studying in a day  373 non-null    float64\n",
      " 2   Mathematics score              373 non-null    float64\n",
      " 3   English score                  373 non-null    float64\n",
      " 4   Science score                  373 non-null    float64\n",
      "dtypes: float64(4), int64(1)\n",
      "memory usage: 17.5 KB\n"
     ]
    }
   ],
   "source": [
    "df.info()\n"
   ]
  },
  {
   "cell_type": "markdown",
   "metadata": {},
   "source": [
    "Do you see that the number of rows are now the same for all columns? How many students had missing values?"
   ]
  },
  {
   "cell_type": "code",
   "execution_count": 31,
   "metadata": {},
   "outputs": [],
   "source": [
    "# 14 Students Had Missing Values (387 - 373 = 14)\n"
   ]
  },
  {
   "cell_type": "markdown",
   "metadata": {},
   "source": [
    "<font color=Blue>Bonus: While it is easy to remove missing values, we sometimes do not do so as the dataset is very small. Removing the values will lead to a smaller dataset. As such, we can also fill in the missing values with other values instead. We can choose to fill in the missing values either with the average values or the most frequent values. For example, if the Mathematics score value is missing, we can find the average value of all the students' mathematics score and fill in the missing value with that value. Try out the code below and observe the output!</font>"
   ]
  },
  {
   "cell_type": "markdown",
   "metadata": {},
   "source": [
    "You should now see that the missing values for Mathematics score have been filled in and there are now 387 non-null values instead of 383 non-null values shown earlier. Now, try to fill in the missing values for the rest of the columns with their respective averages."
   ]
  }
 ],
 "metadata": {
  "interpreter": {
   "hash": "d09ebe33cb5488305776998fc9bd4009441ccc193fca551d3078796f3e290d82"
  },
  "kernelspec": {
   "display_name": "Python 3.10.4 64-bit",
   "language": "python",
   "name": "python3"
  },
  "language_info": {
   "codemirror_mode": {
    "name": "ipython",
    "version": 3
   },
   "file_extension": ".py",
   "mimetype": "text/x-python",
   "name": "python",
   "nbconvert_exporter": "python",
   "pygments_lexer": "ipython3",
   "version": "3.10.4"
  }
 },
 "nbformat": 4,
 "nbformat_minor": 2
}
